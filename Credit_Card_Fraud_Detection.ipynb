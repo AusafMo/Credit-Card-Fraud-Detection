{
  "cells": [
    {
      "cell_type": "markdown",
      "metadata": {
        "id": "view-in-github",
        "colab_type": "text"
      },
      "source": [
        "<a href=\"https://colab.research.google.com/github/AusafMo/Credit-Card-Fraud-Detection/blob/main/Credit_Card_Fraud_Detection.ipynb\" target=\"_parent\"><img src=\"https://colab.research.google.com/assets/colab-badge.svg\" alt=\"Open In Colab\"/></a>"
      ]
    },
    {
      "cell_type": "markdown",
      "metadata": {
        "_uuid": "195ce4cf6f7859b808d0b5570d73c7182a5275cd",
        "id": "SuL7kRuYaFUv"
      },
      "source": [
        "### **Import packages**"
      ]
    },
    {
      "cell_type": "code",
      "execution_count": null,
      "metadata": {
        "_uuid": "67eaaa5c963fa8fd1bb4d7a0ffdbf78cc285112b",
        "id": "WrZ2CYX7aFU0"
      },
      "outputs": [],
      "source": [
        "##Importing the packages\n",
        "#Data processing packages\n",
        "import numpy as np\n",
        "import pandas as pd\n",
        "\n",
        "#Visualization packages\n",
        "import matplotlib.pyplot as plt\n",
        "import seaborn as sns\n",
        "\n",
        "#Machine Learning packages\n",
        "from sklearn.svm import SVC,NuSVC\n",
        "from xgboost import XGBClassifier\n",
        "from sklearn.neighbors import KNeighborsClassifier\n",
        "from sklearn.naive_bayes import GaussianNB,MultinomialNB\n",
        "from sklearn.linear_model import SGDClassifier, LogisticRegression\n",
        "from sklearn.tree import DecisionTreeClassifier, ExtraTreeClassifier\n",
        "from sklearn.discriminant_analysis import QuadraticDiscriminantAnalysis, LinearDiscriminantAnalysis\n",
        "from sklearn.ensemble import RandomForestClassifier, AdaBoostClassifier, GradientBoostingClassifier\n",
        "from sklearn.metrics import accuracy_score\n",
        "from sklearn.preprocessing import LabelEncoder\n",
        "from sklearn.model_selection import train_test_split\n",
        "from sklearn.preprocessing import StandardScaler\n",
        "from sklearn.metrics import confusion_matrix\n",
        "\n",
        "#Suppress warnings\n",
        "import warnings\n",
        "warnings.filterwarnings('ignore')"
      ]
    },
    {
      "cell_type": "markdown",
      "metadata": {
        "_uuid": "ca7c75920c6cd15edc2371664ab3eb02e87ca529",
        "id": "kxAI7lm0aFU2"
      },
      "source": [
        "### **Import data**"
      ]
    },
    {
      "cell_type": "code",
      "execution_count": null,
      "metadata": {
        "_uuid": "ec08827deaf36da3ae4ba6144a8eb6123d051bbd",
        "id": "SbFtU_4oaFU3",
        "outputId": "e3cef864-d1c8-4059-b4b4-12aac6c551e6"
      },
      "outputs": [
        {
          "data": {
            "text/html": [
              "<div>\n",
              "<style scoped>\n",
              "    .dataframe tbody tr th:only-of-type {\n",
              "        vertical-align: middle;\n",
              "    }\n",
              "\n",
              "    .dataframe tbody tr th {\n",
              "        vertical-align: top;\n",
              "    }\n",
              "\n",
              "    .dataframe thead th {\n",
              "        text-align: right;\n",
              "    }\n",
              "</style>\n",
              "<table border=\"1\" class=\"dataframe\">\n",
              "  <thead>\n",
              "    <tr style=\"text-align: right;\">\n",
              "      <th></th>\n",
              "      <th>Time</th>\n",
              "      <th>V1</th>\n",
              "      <th>V2</th>\n",
              "      <th>V3</th>\n",
              "      <th>V4</th>\n",
              "      <th>V5</th>\n",
              "      <th>V6</th>\n",
              "      <th>V7</th>\n",
              "      <th>V8</th>\n",
              "      <th>V9</th>\n",
              "      <th>V10</th>\n",
              "      <th>V11</th>\n",
              "      <th>V12</th>\n",
              "      <th>V13</th>\n",
              "      <th>V14</th>\n",
              "      <th>V15</th>\n",
              "      <th>V16</th>\n",
              "      <th>V17</th>\n",
              "      <th>V18</th>\n",
              "      <th>V19</th>\n",
              "      <th>V20</th>\n",
              "      <th>V21</th>\n",
              "      <th>V22</th>\n",
              "      <th>V23</th>\n",
              "      <th>V24</th>\n",
              "      <th>V25</th>\n",
              "      <th>V26</th>\n",
              "      <th>V27</th>\n",
              "      <th>V28</th>\n",
              "      <th>Amount</th>\n",
              "      <th>Class</th>\n",
              "    </tr>\n",
              "  </thead>\n",
              "  <tbody>\n",
              "    <tr>\n",
              "      <th>0</th>\n",
              "      <td>0.0</td>\n",
              "      <td>-1.359807</td>\n",
              "      <td>-0.072781</td>\n",
              "      <td>2.536347</td>\n",
              "      <td>1.378155</td>\n",
              "      <td>-0.338321</td>\n",
              "      <td>0.462388</td>\n",
              "      <td>0.239599</td>\n",
              "      <td>0.098698</td>\n",
              "      <td>0.363787</td>\n",
              "      <td>0.090794</td>\n",
              "      <td>-0.551600</td>\n",
              "      <td>-0.617801</td>\n",
              "      <td>-0.991390</td>\n",
              "      <td>-0.311169</td>\n",
              "      <td>1.468177</td>\n",
              "      <td>-0.470401</td>\n",
              "      <td>0.207971</td>\n",
              "      <td>0.025791</td>\n",
              "      <td>0.403993</td>\n",
              "      <td>0.251412</td>\n",
              "      <td>-0.018307</td>\n",
              "      <td>0.277838</td>\n",
              "      <td>-0.110474</td>\n",
              "      <td>0.066928</td>\n",
              "      <td>0.128539</td>\n",
              "      <td>-0.189115</td>\n",
              "      <td>0.133558</td>\n",
              "      <td>-0.021053</td>\n",
              "      <td>149.62</td>\n",
              "      <td>0</td>\n",
              "    </tr>\n",
              "    <tr>\n",
              "      <th>1</th>\n",
              "      <td>0.0</td>\n",
              "      <td>1.191857</td>\n",
              "      <td>0.266151</td>\n",
              "      <td>0.166480</td>\n",
              "      <td>0.448154</td>\n",
              "      <td>0.060018</td>\n",
              "      <td>-0.082361</td>\n",
              "      <td>-0.078803</td>\n",
              "      <td>0.085102</td>\n",
              "      <td>-0.255425</td>\n",
              "      <td>-0.166974</td>\n",
              "      <td>1.612727</td>\n",
              "      <td>1.065235</td>\n",
              "      <td>0.489095</td>\n",
              "      <td>-0.143772</td>\n",
              "      <td>0.635558</td>\n",
              "      <td>0.463917</td>\n",
              "      <td>-0.114805</td>\n",
              "      <td>-0.183361</td>\n",
              "      <td>-0.145783</td>\n",
              "      <td>-0.069083</td>\n",
              "      <td>-0.225775</td>\n",
              "      <td>-0.638672</td>\n",
              "      <td>0.101288</td>\n",
              "      <td>-0.339846</td>\n",
              "      <td>0.167170</td>\n",
              "      <td>0.125895</td>\n",
              "      <td>-0.008983</td>\n",
              "      <td>0.014724</td>\n",
              "      <td>2.69</td>\n",
              "      <td>0</td>\n",
              "    </tr>\n",
              "    <tr>\n",
              "      <th>2</th>\n",
              "      <td>1.0</td>\n",
              "      <td>-1.358354</td>\n",
              "      <td>-1.340163</td>\n",
              "      <td>1.773209</td>\n",
              "      <td>0.379780</td>\n",
              "      <td>-0.503198</td>\n",
              "      <td>1.800499</td>\n",
              "      <td>0.791461</td>\n",
              "      <td>0.247676</td>\n",
              "      <td>-1.514654</td>\n",
              "      <td>0.207643</td>\n",
              "      <td>0.624501</td>\n",
              "      <td>0.066084</td>\n",
              "      <td>0.717293</td>\n",
              "      <td>-0.165946</td>\n",
              "      <td>2.345865</td>\n",
              "      <td>-2.890083</td>\n",
              "      <td>1.109969</td>\n",
              "      <td>-0.121359</td>\n",
              "      <td>-2.261857</td>\n",
              "      <td>0.524980</td>\n",
              "      <td>0.247998</td>\n",
              "      <td>0.771679</td>\n",
              "      <td>0.909412</td>\n",
              "      <td>-0.689281</td>\n",
              "      <td>-0.327642</td>\n",
              "      <td>-0.139097</td>\n",
              "      <td>-0.055353</td>\n",
              "      <td>-0.059752</td>\n",
              "      <td>378.66</td>\n",
              "      <td>0</td>\n",
              "    </tr>\n",
              "    <tr>\n",
              "      <th>3</th>\n",
              "      <td>1.0</td>\n",
              "      <td>-0.966272</td>\n",
              "      <td>-0.185226</td>\n",
              "      <td>1.792993</td>\n",
              "      <td>-0.863291</td>\n",
              "      <td>-0.010309</td>\n",
              "      <td>1.247203</td>\n",
              "      <td>0.237609</td>\n",
              "      <td>0.377436</td>\n",
              "      <td>-1.387024</td>\n",
              "      <td>-0.054952</td>\n",
              "      <td>-0.226487</td>\n",
              "      <td>0.178228</td>\n",
              "      <td>0.507757</td>\n",
              "      <td>-0.287924</td>\n",
              "      <td>-0.631418</td>\n",
              "      <td>-1.059647</td>\n",
              "      <td>-0.684093</td>\n",
              "      <td>1.965775</td>\n",
              "      <td>-1.232622</td>\n",
              "      <td>-0.208038</td>\n",
              "      <td>-0.108300</td>\n",
              "      <td>0.005274</td>\n",
              "      <td>-0.190321</td>\n",
              "      <td>-1.175575</td>\n",
              "      <td>0.647376</td>\n",
              "      <td>-0.221929</td>\n",
              "      <td>0.062723</td>\n",
              "      <td>0.061458</td>\n",
              "      <td>123.50</td>\n",
              "      <td>0</td>\n",
              "    </tr>\n",
              "    <tr>\n",
              "      <th>4</th>\n",
              "      <td>2.0</td>\n",
              "      <td>-1.158233</td>\n",
              "      <td>0.877737</td>\n",
              "      <td>1.548718</td>\n",
              "      <td>0.403034</td>\n",
              "      <td>-0.407193</td>\n",
              "      <td>0.095921</td>\n",
              "      <td>0.592941</td>\n",
              "      <td>-0.270533</td>\n",
              "      <td>0.817739</td>\n",
              "      <td>0.753074</td>\n",
              "      <td>-0.822843</td>\n",
              "      <td>0.538196</td>\n",
              "      <td>1.345852</td>\n",
              "      <td>-1.119670</td>\n",
              "      <td>0.175121</td>\n",
              "      <td>-0.451449</td>\n",
              "      <td>-0.237033</td>\n",
              "      <td>-0.038195</td>\n",
              "      <td>0.803487</td>\n",
              "      <td>0.408542</td>\n",
              "      <td>-0.009431</td>\n",
              "      <td>0.798278</td>\n",
              "      <td>-0.137458</td>\n",
              "      <td>0.141267</td>\n",
              "      <td>-0.206010</td>\n",
              "      <td>0.502292</td>\n",
              "      <td>0.219422</td>\n",
              "      <td>0.215153</td>\n",
              "      <td>69.99</td>\n",
              "      <td>0</td>\n",
              "    </tr>\n",
              "  </tbody>\n",
              "</table>\n",
              "</div>"
            ],
            "text/plain": [
              "   Time        V1        V2        V3  ...         V27       V28  Amount  Class\n",
              "0   0.0 -1.359807 -0.072781  2.536347  ...    0.133558 -0.021053  149.62      0\n",
              "1   0.0  1.191857  0.266151  0.166480  ...   -0.008983  0.014724    2.69      0\n",
              "2   1.0 -1.358354 -1.340163  1.773209  ...   -0.055353 -0.059752  378.66      0\n",
              "3   1.0 -0.966272 -0.185226  1.792993  ...    0.062723  0.061458  123.50      0\n",
              "4   2.0 -1.158233  0.877737  1.548718  ...    0.219422  0.215153   69.99      0\n",
              "\n",
              "[5 rows x 31 columns]"
            ]
          },
          "execution_count": 2,
          "metadata": {},
          "output_type": "execute_result"
        }
      ],
      "source": [
        "#\"read_csv\" function from pandas is used to read the contents of csv file into dataframe (cc)\n",
        "data = pd.read_csv('../input/creditcard.csv')\n",
        "data.head()"
      ]
    },
    {
      "cell_type": "markdown",
      "metadata": {
        "_uuid": "4c16b65daf273133026cc77629e441b780bba88b",
        "id": "Km9WIE_waFU4"
      },
      "source": [
        "### **Check and remediate if there are any null values**"
      ]
    },
    {
      "cell_type": "code",
      "execution_count": null,
      "metadata": {
        "_uuid": "c1f49c615ad2b6256a223c7ed27559edaa76ccfc",
        "id": "7EBEABZBaFU4",
        "outputId": "1fbb5b22-a75c-4723-b306-f09a74e5ea5e"
      },
      "outputs": [
        {
          "name": "stdout",
          "output_type": "stream",
          "text": [
            "<class 'pandas.core.frame.DataFrame'>\n",
            "RangeIndex: 284807 entries, 0 to 284806\n",
            "Data columns (total 31 columns):\n",
            "Time      284807 non-null float64\n",
            "V1        284807 non-null float64\n",
            "V2        284807 non-null float64\n",
            "V3        284807 non-null float64\n",
            "V4        284807 non-null float64\n",
            "V5        284807 non-null float64\n",
            "V6        284807 non-null float64\n",
            "V7        284807 non-null float64\n",
            "V8        284807 non-null float64\n",
            "V9        284807 non-null float64\n",
            "V10       284807 non-null float64\n",
            "V11       284807 non-null float64\n",
            "V12       284807 non-null float64\n",
            "V13       284807 non-null float64\n",
            "V14       284807 non-null float64\n",
            "V15       284807 non-null float64\n",
            "V16       284807 non-null float64\n",
            "V17       284807 non-null float64\n",
            "V18       284807 non-null float64\n",
            "V19       284807 non-null float64\n",
            "V20       284807 non-null float64\n",
            "V21       284807 non-null float64\n",
            "V22       284807 non-null float64\n",
            "V23       284807 non-null float64\n",
            "V24       284807 non-null float64\n",
            "V25       284807 non-null float64\n",
            "V26       284807 non-null float64\n",
            "V27       284807 non-null float64\n",
            "V28       284807 non-null float64\n",
            "Amount    284807 non-null float64\n",
            "Class     284807 non-null int64\n",
            "dtypes: float64(30), int64(1)\n",
            "memory usage: 67.4 MB\n"
          ]
        }
      ],
      "source": [
        "data.info()"
      ]
    },
    {
      "cell_type": "markdown",
      "metadata": {
        "_uuid": "247f607fa9de6675c73e63e6a11717642ae2e8b0",
        "id": "PxI1kR-caFU5"
      },
      "source": [
        "**COMMENT:** Above output shows that there are No Null values."
      ]
    },
    {
      "cell_type": "markdown",
      "metadata": {
        "_uuid": "39b406a459299f67a4f16655cc05a38463f51a9b",
        "id": "Ov9PeOTCaFU5"
      },
      "source": [
        "### **Check and remove if there are any fields which does not add value**"
      ]
    },
    {
      "cell_type": "code",
      "execution_count": null,
      "metadata": {
        "_uuid": "2f40fb33332a8546d4e1128f76dbcbdec2de2824",
        "id": "pCYniDSXaFU6",
        "outputId": "e517089a-ac79-45ed-ddaa-1618685e5617"
      },
      "outputs": [
        {
          "data": {
            "text/html": [
              "<div>\n",
              "<style scoped>\n",
              "    .dataframe tbody tr th:only-of-type {\n",
              "        vertical-align: middle;\n",
              "    }\n",
              "\n",
              "    .dataframe tbody tr th {\n",
              "        vertical-align: top;\n",
              "    }\n",
              "\n",
              "    .dataframe thead th {\n",
              "        text-align: right;\n",
              "    }\n",
              "</style>\n",
              "<table border=\"1\" class=\"dataframe\">\n",
              "  <thead>\n",
              "    <tr style=\"text-align: right;\">\n",
              "      <th></th>\n",
              "      <th>Time</th>\n",
              "      <th>V1</th>\n",
              "      <th>V2</th>\n",
              "      <th>V3</th>\n",
              "      <th>V4</th>\n",
              "      <th>V5</th>\n",
              "      <th>V6</th>\n",
              "      <th>V7</th>\n",
              "      <th>V8</th>\n",
              "      <th>V9</th>\n",
              "      <th>V10</th>\n",
              "      <th>V11</th>\n",
              "      <th>V12</th>\n",
              "      <th>V13</th>\n",
              "      <th>V14</th>\n",
              "      <th>V15</th>\n",
              "      <th>V16</th>\n",
              "      <th>V17</th>\n",
              "      <th>V18</th>\n",
              "      <th>V19</th>\n",
              "      <th>V20</th>\n",
              "      <th>V21</th>\n",
              "      <th>V22</th>\n",
              "      <th>V23</th>\n",
              "      <th>V24</th>\n",
              "      <th>V25</th>\n",
              "      <th>V26</th>\n",
              "      <th>V27</th>\n",
              "      <th>V28</th>\n",
              "      <th>Amount</th>\n",
              "      <th>Class</th>\n",
              "    </tr>\n",
              "  </thead>\n",
              "  <tbody>\n",
              "    <tr>\n",
              "      <th>count</th>\n",
              "      <td>284807.000000</td>\n",
              "      <td>2.848070e+05</td>\n",
              "      <td>2.848070e+05</td>\n",
              "      <td>2.848070e+05</td>\n",
              "      <td>2.848070e+05</td>\n",
              "      <td>2.848070e+05</td>\n",
              "      <td>2.848070e+05</td>\n",
              "      <td>2.848070e+05</td>\n",
              "      <td>2.848070e+05</td>\n",
              "      <td>2.848070e+05</td>\n",
              "      <td>2.848070e+05</td>\n",
              "      <td>2.848070e+05</td>\n",
              "      <td>2.848070e+05</td>\n",
              "      <td>2.848070e+05</td>\n",
              "      <td>2.848070e+05</td>\n",
              "      <td>2.848070e+05</td>\n",
              "      <td>2.848070e+05</td>\n",
              "      <td>2.848070e+05</td>\n",
              "      <td>2.848070e+05</td>\n",
              "      <td>2.848070e+05</td>\n",
              "      <td>2.848070e+05</td>\n",
              "      <td>2.848070e+05</td>\n",
              "      <td>2.848070e+05</td>\n",
              "      <td>2.848070e+05</td>\n",
              "      <td>2.848070e+05</td>\n",
              "      <td>2.848070e+05</td>\n",
              "      <td>2.848070e+05</td>\n",
              "      <td>2.848070e+05</td>\n",
              "      <td>2.848070e+05</td>\n",
              "      <td>284807.000000</td>\n",
              "      <td>284807.000000</td>\n",
              "    </tr>\n",
              "    <tr>\n",
              "      <th>mean</th>\n",
              "      <td>94813.859575</td>\n",
              "      <td>3.919560e-15</td>\n",
              "      <td>5.688174e-16</td>\n",
              "      <td>-8.769071e-15</td>\n",
              "      <td>2.782312e-15</td>\n",
              "      <td>-1.552563e-15</td>\n",
              "      <td>2.010663e-15</td>\n",
              "      <td>-1.694249e-15</td>\n",
              "      <td>-1.927028e-16</td>\n",
              "      <td>-3.137024e-15</td>\n",
              "      <td>1.768627e-15</td>\n",
              "      <td>9.170318e-16</td>\n",
              "      <td>-1.810658e-15</td>\n",
              "      <td>1.693438e-15</td>\n",
              "      <td>1.479045e-15</td>\n",
              "      <td>3.482336e-15</td>\n",
              "      <td>1.392007e-15</td>\n",
              "      <td>-7.528491e-16</td>\n",
              "      <td>4.328772e-16</td>\n",
              "      <td>9.049732e-16</td>\n",
              "      <td>5.085503e-16</td>\n",
              "      <td>1.537294e-16</td>\n",
              "      <td>7.959909e-16</td>\n",
              "      <td>5.367590e-16</td>\n",
              "      <td>4.458112e-15</td>\n",
              "      <td>1.453003e-15</td>\n",
              "      <td>1.699104e-15</td>\n",
              "      <td>-3.660161e-16</td>\n",
              "      <td>-1.206049e-16</td>\n",
              "      <td>88.349619</td>\n",
              "      <td>0.001727</td>\n",
              "    </tr>\n",
              "    <tr>\n",
              "      <th>std</th>\n",
              "      <td>47488.145955</td>\n",
              "      <td>1.958696e+00</td>\n",
              "      <td>1.651309e+00</td>\n",
              "      <td>1.516255e+00</td>\n",
              "      <td>1.415869e+00</td>\n",
              "      <td>1.380247e+00</td>\n",
              "      <td>1.332271e+00</td>\n",
              "      <td>1.237094e+00</td>\n",
              "      <td>1.194353e+00</td>\n",
              "      <td>1.098632e+00</td>\n",
              "      <td>1.088850e+00</td>\n",
              "      <td>1.020713e+00</td>\n",
              "      <td>9.992014e-01</td>\n",
              "      <td>9.952742e-01</td>\n",
              "      <td>9.585956e-01</td>\n",
              "      <td>9.153160e-01</td>\n",
              "      <td>8.762529e-01</td>\n",
              "      <td>8.493371e-01</td>\n",
              "      <td>8.381762e-01</td>\n",
              "      <td>8.140405e-01</td>\n",
              "      <td>7.709250e-01</td>\n",
              "      <td>7.345240e-01</td>\n",
              "      <td>7.257016e-01</td>\n",
              "      <td>6.244603e-01</td>\n",
              "      <td>6.056471e-01</td>\n",
              "      <td>5.212781e-01</td>\n",
              "      <td>4.822270e-01</td>\n",
              "      <td>4.036325e-01</td>\n",
              "      <td>3.300833e-01</td>\n",
              "      <td>250.120109</td>\n",
              "      <td>0.041527</td>\n",
              "    </tr>\n",
              "    <tr>\n",
              "      <th>min</th>\n",
              "      <td>0.000000</td>\n",
              "      <td>-5.640751e+01</td>\n",
              "      <td>-7.271573e+01</td>\n",
              "      <td>-4.832559e+01</td>\n",
              "      <td>-5.683171e+00</td>\n",
              "      <td>-1.137433e+02</td>\n",
              "      <td>-2.616051e+01</td>\n",
              "      <td>-4.355724e+01</td>\n",
              "      <td>-7.321672e+01</td>\n",
              "      <td>-1.343407e+01</td>\n",
              "      <td>-2.458826e+01</td>\n",
              "      <td>-4.797473e+00</td>\n",
              "      <td>-1.868371e+01</td>\n",
              "      <td>-5.791881e+00</td>\n",
              "      <td>-1.921433e+01</td>\n",
              "      <td>-4.498945e+00</td>\n",
              "      <td>-1.412985e+01</td>\n",
              "      <td>-2.516280e+01</td>\n",
              "      <td>-9.498746e+00</td>\n",
              "      <td>-7.213527e+00</td>\n",
              "      <td>-5.449772e+01</td>\n",
              "      <td>-3.483038e+01</td>\n",
              "      <td>-1.093314e+01</td>\n",
              "      <td>-4.480774e+01</td>\n",
              "      <td>-2.836627e+00</td>\n",
              "      <td>-1.029540e+01</td>\n",
              "      <td>-2.604551e+00</td>\n",
              "      <td>-2.256568e+01</td>\n",
              "      <td>-1.543008e+01</td>\n",
              "      <td>0.000000</td>\n",
              "      <td>0.000000</td>\n",
              "    </tr>\n",
              "    <tr>\n",
              "      <th>25%</th>\n",
              "      <td>54201.500000</td>\n",
              "      <td>-9.203734e-01</td>\n",
              "      <td>-5.985499e-01</td>\n",
              "      <td>-8.903648e-01</td>\n",
              "      <td>-8.486401e-01</td>\n",
              "      <td>-6.915971e-01</td>\n",
              "      <td>-7.682956e-01</td>\n",
              "      <td>-5.540759e-01</td>\n",
              "      <td>-2.086297e-01</td>\n",
              "      <td>-6.430976e-01</td>\n",
              "      <td>-5.354257e-01</td>\n",
              "      <td>-7.624942e-01</td>\n",
              "      <td>-4.055715e-01</td>\n",
              "      <td>-6.485393e-01</td>\n",
              "      <td>-4.255740e-01</td>\n",
              "      <td>-5.828843e-01</td>\n",
              "      <td>-4.680368e-01</td>\n",
              "      <td>-4.837483e-01</td>\n",
              "      <td>-4.988498e-01</td>\n",
              "      <td>-4.562989e-01</td>\n",
              "      <td>-2.117214e-01</td>\n",
              "      <td>-2.283949e-01</td>\n",
              "      <td>-5.423504e-01</td>\n",
              "      <td>-1.618463e-01</td>\n",
              "      <td>-3.545861e-01</td>\n",
              "      <td>-3.171451e-01</td>\n",
              "      <td>-3.269839e-01</td>\n",
              "      <td>-7.083953e-02</td>\n",
              "      <td>-5.295979e-02</td>\n",
              "      <td>5.600000</td>\n",
              "      <td>0.000000</td>\n",
              "    </tr>\n",
              "    <tr>\n",
              "      <th>50%</th>\n",
              "      <td>84692.000000</td>\n",
              "      <td>1.810880e-02</td>\n",
              "      <td>6.548556e-02</td>\n",
              "      <td>1.798463e-01</td>\n",
              "      <td>-1.984653e-02</td>\n",
              "      <td>-5.433583e-02</td>\n",
              "      <td>-2.741871e-01</td>\n",
              "      <td>4.010308e-02</td>\n",
              "      <td>2.235804e-02</td>\n",
              "      <td>-5.142873e-02</td>\n",
              "      <td>-9.291738e-02</td>\n",
              "      <td>-3.275735e-02</td>\n",
              "      <td>1.400326e-01</td>\n",
              "      <td>-1.356806e-02</td>\n",
              "      <td>5.060132e-02</td>\n",
              "      <td>4.807155e-02</td>\n",
              "      <td>6.641332e-02</td>\n",
              "      <td>-6.567575e-02</td>\n",
              "      <td>-3.636312e-03</td>\n",
              "      <td>3.734823e-03</td>\n",
              "      <td>-6.248109e-02</td>\n",
              "      <td>-2.945017e-02</td>\n",
              "      <td>6.781943e-03</td>\n",
              "      <td>-1.119293e-02</td>\n",
              "      <td>4.097606e-02</td>\n",
              "      <td>1.659350e-02</td>\n",
              "      <td>-5.213911e-02</td>\n",
              "      <td>1.342146e-03</td>\n",
              "      <td>1.124383e-02</td>\n",
              "      <td>22.000000</td>\n",
              "      <td>0.000000</td>\n",
              "    </tr>\n",
              "    <tr>\n",
              "      <th>75%</th>\n",
              "      <td>139320.500000</td>\n",
              "      <td>1.315642e+00</td>\n",
              "      <td>8.037239e-01</td>\n",
              "      <td>1.027196e+00</td>\n",
              "      <td>7.433413e-01</td>\n",
              "      <td>6.119264e-01</td>\n",
              "      <td>3.985649e-01</td>\n",
              "      <td>5.704361e-01</td>\n",
              "      <td>3.273459e-01</td>\n",
              "      <td>5.971390e-01</td>\n",
              "      <td>4.539234e-01</td>\n",
              "      <td>7.395934e-01</td>\n",
              "      <td>6.182380e-01</td>\n",
              "      <td>6.625050e-01</td>\n",
              "      <td>4.931498e-01</td>\n",
              "      <td>6.488208e-01</td>\n",
              "      <td>5.232963e-01</td>\n",
              "      <td>3.996750e-01</td>\n",
              "      <td>5.008067e-01</td>\n",
              "      <td>4.589494e-01</td>\n",
              "      <td>1.330408e-01</td>\n",
              "      <td>1.863772e-01</td>\n",
              "      <td>5.285536e-01</td>\n",
              "      <td>1.476421e-01</td>\n",
              "      <td>4.395266e-01</td>\n",
              "      <td>3.507156e-01</td>\n",
              "      <td>2.409522e-01</td>\n",
              "      <td>9.104512e-02</td>\n",
              "      <td>7.827995e-02</td>\n",
              "      <td>77.165000</td>\n",
              "      <td>0.000000</td>\n",
              "    </tr>\n",
              "    <tr>\n",
              "      <th>max</th>\n",
              "      <td>172792.000000</td>\n",
              "      <td>2.454930e+00</td>\n",
              "      <td>2.205773e+01</td>\n",
              "      <td>9.382558e+00</td>\n",
              "      <td>1.687534e+01</td>\n",
              "      <td>3.480167e+01</td>\n",
              "      <td>7.330163e+01</td>\n",
              "      <td>1.205895e+02</td>\n",
              "      <td>2.000721e+01</td>\n",
              "      <td>1.559499e+01</td>\n",
              "      <td>2.374514e+01</td>\n",
              "      <td>1.201891e+01</td>\n",
              "      <td>7.848392e+00</td>\n",
              "      <td>7.126883e+00</td>\n",
              "      <td>1.052677e+01</td>\n",
              "      <td>8.877742e+00</td>\n",
              "      <td>1.731511e+01</td>\n",
              "      <td>9.253526e+00</td>\n",
              "      <td>5.041069e+00</td>\n",
              "      <td>5.591971e+00</td>\n",
              "      <td>3.942090e+01</td>\n",
              "      <td>2.720284e+01</td>\n",
              "      <td>1.050309e+01</td>\n",
              "      <td>2.252841e+01</td>\n",
              "      <td>4.584549e+00</td>\n",
              "      <td>7.519589e+00</td>\n",
              "      <td>3.517346e+00</td>\n",
              "      <td>3.161220e+01</td>\n",
              "      <td>3.384781e+01</td>\n",
              "      <td>25691.160000</td>\n",
              "      <td>1.000000</td>\n",
              "    </tr>\n",
              "  </tbody>\n",
              "</table>\n",
              "</div>"
            ],
            "text/plain": [
              "                Time            V1      ...               Amount          Class\n",
              "count  284807.000000  2.848070e+05      ...        284807.000000  284807.000000\n",
              "mean    94813.859575  3.919560e-15      ...            88.349619       0.001727\n",
              "std     47488.145955  1.958696e+00      ...           250.120109       0.041527\n",
              "min         0.000000 -5.640751e+01      ...             0.000000       0.000000\n",
              "25%     54201.500000 -9.203734e-01      ...             5.600000       0.000000\n",
              "50%     84692.000000  1.810880e-02      ...            22.000000       0.000000\n",
              "75%    139320.500000  1.315642e+00      ...            77.165000       0.000000\n",
              "max    172792.000000  2.454930e+00      ...         25691.160000       1.000000\n",
              "\n",
              "[8 rows x 31 columns]"
            ]
          },
          "execution_count": 4,
          "metadata": {},
          "output_type": "execute_result"
        }
      ],
      "source": [
        "#\"describe\" function displays common statistics like count, mean, max for each numeric fields\n",
        "data.describe()"
      ]
    },
    {
      "cell_type": "markdown",
      "metadata": {
        "_uuid": "020870e347e928cf1841e9cfb8410d1ead882994",
        "id": "4T-DJzjHaFU7"
      },
      "source": [
        "**COMMENT:** From the output of **describe** function it looks like all the fields have value, so we will not remove any field."
      ]
    },
    {
      "cell_type": "markdown",
      "metadata": {
        "_uuid": "2f0e14a0319640c785eef99268eaefaba0baba6a",
        "id": "JR5S6f_raFU7"
      },
      "source": [
        "### **Perform datatype conversion or translation wherever required**"
      ]
    },
    {
      "cell_type": "markdown",
      "metadata": {
        "_uuid": "43b0de3a67bf45e95491fb47aa831b12709473d8",
        "id": "H9eW6w3caFU7"
      },
      "source": [
        "**COMMENT:** Since all the fields have numerical datatype we don't need type conversion."
      ]
    },
    {
      "cell_type": "markdown",
      "metadata": {
        "_uuid": "3eb096e21e893b26f1ea64f93db5f870a3f7df6f",
        "id": "U8wmOAeuaFU8"
      },
      "source": [
        "### **Convert Categorical values to Numeric Values**"
      ]
    },
    {
      "cell_type": "markdown",
      "metadata": {
        "_uuid": "52e1503009ff9222344c6085b350409eb5bd1ab8",
        "id": "e8Mvb2dtaFU8"
      },
      "source": [
        "**COMMENT:** Since all the fields have nuermical datatype we don't need to convert from categorical to numerical datatype."
      ]
    },
    {
      "cell_type": "markdown",
      "metadata": {
        "_uuid": "78f4934d858618a704d27af492dc76b49c92d9fa",
        "id": "JpwrXT7HaFU9"
      },
      "source": [
        "### **Separating the Feature and Target Matrices**"
      ]
    },
    {
      "cell_type": "code",
      "execution_count": null,
      "metadata": {
        "_uuid": "7a66b241fa8ffbebd62747dd005783b6811b2f4e",
        "id": "ow1lfTpCaFU9"
      },
      "outputs": [],
      "source": [
        "#Separating Feature and Target matrices\n",
        "X = data.drop(['Class'], axis=1)\n",
        "y=data['Class']"
      ]
    },
    {
      "cell_type": "markdown",
      "metadata": {
        "_uuid": "df00ec13f9bd909620e174140eabac6ee6909487",
        "id": "pY52px8OaFU-"
      },
      "source": [
        "### **Scaling the data values to standardize the range of independent variables**"
      ]
    },
    {
      "cell_type": "code",
      "execution_count": null,
      "metadata": {
        "_uuid": "087cd4aac7abe5b95c7c40a742ed133c967f5115",
        "id": "_ayikpoJaFU-"
      },
      "outputs": [],
      "source": [
        "#Feature scaling is a method used to standardize the range of independent variables or features of data.\n",
        "#Since the range of values of raw data varies widely, in some machine learning algorithms, objective functions will not work properly without normalization.\n",
        "from sklearn.preprocessing import StandardScaler\n",
        "scale = StandardScaler()\n",
        "X = scale.fit_transform(X)"
      ]
    },
    {
      "cell_type": "markdown",
      "metadata": {
        "_uuid": "685b4bb0758e52e053673909f4778955e36c4184",
        "id": "sp3d9cQjaFU_"
      },
      "source": [
        "### **Split the data into Training set and Testing set**"
      ]
    },
    {
      "cell_type": "code",
      "execution_count": null,
      "metadata": {
        "_uuid": "c4309038b2ed828c961c13f709163585ad31333d",
        "id": "YYDGaozpaFU_"
      },
      "outputs": [],
      "source": [
        "# Split the data into Training set and Testing set\n",
        "from sklearn.model_selection import train_test_split\n",
        "X_train, X_test, y_train, y_test = train_test_split(X,y,test_size =0.2,random_state=42)"
      ]
    },
    {
      "cell_type": "markdown",
      "metadata": {
        "_uuid": "ebee3fe0f7921109d71c6b271c8cbc3d557892bf",
        "id": "MKLDYPjMaFU_"
      },
      "source": [
        "**Since the data is highly class imbalanced, we will have to oversample the data. Here SMOTE technique has been used to oversample the data as it proves to be the most effective one.**"
      ]
    },
    {
      "cell_type": "code",
      "execution_count": null,
      "metadata": {
        "_uuid": "d6283969dcf6e4cf7a0448d779be222a937c0486",
        "id": "nbRZn5nOaFVA",
        "outputId": "90db4514-79ef-4a8d-c2df-17d373a780fc"
      },
      "outputs": [
        {
          "name": "stderr",
          "output_type": "stream",
          "text": [
            "Using TensorFlow backend.\n"
          ]
        }
      ],
      "source": [
        "from imblearn.over_sampling import SMOTE\n",
        "sm = SMOTE(random_state=0, ratio = 1.0)\n",
        "X_train,y_train = sm.fit_sample(X_train,y_train)"
      ]
    },
    {
      "cell_type": "markdown",
      "metadata": {
        "_uuid": "6155a9a6f55a0a08060cd2db592f4b7639c1f7d4",
        "id": "Ix00I_iNaFVA"
      },
      "source": [
        "### **Function definition**"
      ]
    },
    {
      "cell_type": "code",
      "execution_count": null,
      "metadata": {
        "_uuid": "8f8bf94cc56068a69307dc7b7779f62b535d28c6",
        "id": "J0Lq7Qv7aFVB"
      },
      "outputs": [],
      "source": [
        "#Function to Train and Test Machine Learning Model\n",
        "def train_test_ml_model(X_train,y_train,X_test,Model):\n",
        "    model.fit(X_train,y_train) #Train the Model\n",
        "    y_pred = model.predict(X_test) #Use the Model for prediction\n",
        "\n",
        "    # Test the Model\n",
        "    from sklearn.metrics import confusion_matrix\n",
        "    cm = confusion_matrix(y_test,y_pred)\n",
        "    accuracy = round(100*np.trace(cm)/np.sum(cm),1)\n",
        "\n",
        "    #Plot/Display the results\n",
        "    cm_plot(cm,Model)\n",
        "    print('Accuracy of the Model' ,Model, str(accuracy)+'%')"
      ]
    },
    {
      "cell_type": "code",
      "execution_count": null,
      "metadata": {
        "_uuid": "d1fee1209d5c8ca90e53678ee0e8f4f5a481c9ac",
        "id": "Cw9lHE6UaFVB"
      },
      "outputs": [],
      "source": [
        "#Function to plot Confusion Matrix\n",
        "def cm_plot(cm,Model):\n",
        "    plt.clf()\n",
        "    plt.imshow(cm, interpolation='nearest', cmap=plt.cm.Wistia)\n",
        "    classNames = ['Negative','Positive']\n",
        "    plt.title('Comparison of Prediction Result for '+ Model)\n",
        "    plt.ylabel('True label')\n",
        "    plt.xlabel('Predicted label')\n",
        "    tick_marks = np.arange(len(classNames))\n",
        "    plt.xticks(tick_marks, classNames, rotation=45)\n",
        "    plt.yticks(tick_marks, classNames)\n",
        "    s = [['TN','FP'], ['FN', 'TP']]\n",
        "    for i in range(2):\n",
        "        for j in range(2):\n",
        "            plt.text(j,i, str(s[i][j])+\" = \"+str(cm[i][j]))\n",
        "    plt.show()\n",
        "    print(cm[1][0])"
      ]
    },
    {
      "cell_type": "markdown",
      "metadata": {
        "_uuid": "98a1f38a357079b5262cf99ad2899fa2fa4e0a91",
        "id": "DAdQGHaWaFVC"
      },
      "source": [
        "### **PERFORM PREDICTIONS USING MACHINE LEARNING ALGORITHMS**"
      ]
    },
    {
      "cell_type": "code",
      "execution_count": null,
      "metadata": {
        "_uuid": "0dc1d613dba8d544622b57375574cdc759fbc225",
        "id": "kJOJKsYMaFVC",
        "outputId": "2c7be826-1d04-4873-bb53-de9b4df0a28e"
      },
      "outputs": [
        {
          "data": {
            "image/png": "[encoded data removed]",
            "text/plain": [
              "<Figure size 432x288 with 1 Axes>"
            ]
          },
          "metadata": {},
          "output_type": "display_data"
        },
        {
          "name": "stdout",
          "output_type": "stream",
          "text": [
            "26\n",
            "Accuracy of the Model SVC 99.8%\n"
          ]
        }
      ],
      "source": [
        "from sklearn.svm import SVC,NuSVC  #Import packages related to Model\n",
        "Model = \"SVC\"\n",
        "model=SVC() #Create the Model\n",
        "\n",
        "train_test_ml_model(X_train,y_train,X_test,Model)"
      ]
    },
    {
      "cell_type": "code",
      "execution_count": null,
      "metadata": {
        "_uuid": "e57d0749ca60c65498d40093a19a9aed42a94c65",
        "id": "THSLCYyhaFVC"
      },
      "outputs": [],
      "source": [
        "#from sklearn.svm import SVC,NuSVC  #Import packages related to Model\n",
        "#Model = \"NuSVC\"\n",
        "#model=NuSVC()#Create the Model\n",
        "\n",
        "#train_test_ml_model(X_train,y_train,X_test,Model)"
      ]
    },
    {
      "cell_type": "code",
      "execution_count": null,
      "metadata": {
        "_uuid": "881e60f4ec4fc1095c3f4c934c31d01b7dda5e1a",
        "id": "AB2wGCsyaFVC",
        "outputId": "e07cf8d9-d455-4bdb-8fc0-706a84addde7"
      },
      "outputs": [
        {
          "data": {
            "image/png": "[encoded data removed]",
            "text/plain": [
              "<Figure size 432x288 with 1 Axes>"
            ]
          },
          "metadata": {},
          "output_type": "display_data"
        },
        {
          "name": "stdout",
          "output_type": "stream",
          "text": [
            "10\n",
            "Accuracy of the Model XGBClassifier() 99.0%\n"
          ]
        }
      ],
      "source": [
        "from xgboost import XGBClassifier  #Import packages related to Model\n",
        "Model = \"XGBClassifier()\"\n",
        "model=XGBClassifier() #Create the Model\n",
        "\n",
        "train_test_ml_model(X_train,y_train,X_test,Model)"
      ]
    },
    {
      "cell_type": "code",
      "execution_count": null,
      "metadata": {
        "_uuid": "fc9243bb2eba514fbdb02e357fefcff7a396da67",
        "id": "XQdIpmvLaFVD",
        "outputId": "1b6dce9e-4f84-4794-be82-9ae255b23372"
      },
      "outputs": [
        {
          "data": {
            "image/png": "[encoded data removed]",
            "text/plain": [
              "<Figure size 432x288 with 1 Axes>"
            ]
          },
          "metadata": {},
          "output_type": "display_data"
        },
        {
          "name": "stdout",
          "output_type": "stream",
          "text": [
            "13\n",
            "Accuracy of the Model GaussianNB 97.6%\n"
          ]
        }
      ],
      "source": [
        "from sklearn.naive_bayes import GaussianNB,MultinomialNB  #Import packages related to Model\n",
        "Model = \"GaussianNB\"\n",
        "model=GaussianNB()\n",
        "\n",
        "train_test_ml_model(X_train,y_train,X_test,Model)"
      ]
    },
    {
      "cell_type": "code",
      "execution_count": null,
      "metadata": {
        "_uuid": "79c9f5b71322620b096367525f0695b81e1b8e02",
        "id": "kg2_lxOfaFVD",
        "outputId": "9d1d9e26-8c13-4620-abdd-0bd2ecee2537"
      },
      "outputs": [
        {
          "data": {
            "image/png": "[encoded data removed]",
            "text/plain": [
              "<Figure size 432x288 with 1 Axes>"
            ]
          },
          "metadata": {},
          "output_type": "display_data"
        },
        {
          "name": "stdout",
          "output_type": "stream",
          "text": [
            "8\n",
            "Accuracy of the Model SGDClassifier 97.5%\n"
          ]
        }
      ],
      "source": [
        "from sklearn.linear_model import SGDClassifier, LogisticRegression #Import packages related to Model\n",
        "Model = \"SGDClassifier\"\n",
        "model=SGDClassifier()\n",
        "\n",
        "train_test_ml_model(X_train,y_train,X_test,Model)"
      ]
    },
    {
      "cell_type": "code",
      "execution_count": null,
      "metadata": {
        "_uuid": "5d6e5f788057a92c1e6243665339762520355bca",
        "id": "bg1-rLaFaFVD",
        "outputId": "70134c94-c9df-4786-f306-f802e28e6c02"
      },
      "outputs": [
        {
          "data": {
            "image/png": "[encoded data removed]",
            "text/plain": [
              "<Figure size 432x288 with 1 Axes>"
            ]
          },
          "metadata": {},
          "output_type": "display_data"
        },
        {
          "name": "stdout",
          "output_type": "stream",
          "text": [
            "8\n",
            "Accuracy of the Model LogisticRegression 97.5%\n"
          ]
        }
      ],
      "source": [
        "from sklearn.linear_model import SGDClassifier, LogisticRegression #Import packages related to Model\n",
        "Model = \"LogisticRegression\"\n",
        "model=LogisticRegression()\n",
        "\n",
        "train_test_ml_model(X_train,y_train,X_test,Model)"
      ]
    },
    {
      "cell_type": "code",
      "execution_count": null,
      "metadata": {
        "_uuid": "5661c21df037b12719d86f1227bba0d13c0c4209",
        "id": "uzcV7nBuaFVE",
        "outputId": "e789a0c9-7454-4593-da4f-2198cd281f1b"
      },
      "outputs": [
        {
          "data": {
            "image/png": "[encoded data removed]",
            "text/plain": [
              "<Figure size 432x288 with 1 Axes>"
            ]
          },
          "metadata": {},
          "output_type": "display_data"
        },
        {
          "name": "stdout",
          "output_type": "stream",
          "text": [
            "20\n",
            "Accuracy of the Model DecisionTreeClassifier 99.8%\n"
          ]
        }
      ],
      "source": [
        "from sklearn.tree import DecisionTreeClassifier, ExtraTreeClassifier #Import packages related to Model\n",
        "Model = \"DecisionTreeClassifier\"\n",
        "model=DecisionTreeClassifier()\n",
        "\n",
        "train_test_ml_model(X_train,y_train,X_test,Model)"
      ]
    },
    {
      "cell_type": "code",
      "execution_count": null,
      "metadata": {
        "_uuid": "af6f30b882ce38b1c487c388f25ae77aefe12cd4",
        "id": "tW2FirovaFVE",
        "outputId": "97b0777b-9e19-4128-fb1b-80b37750ffeb"
      },
      "outputs": [
        {
          "data": {
            "image/png": "[encoded data removed]",
            "text/plain": [
              "<Figure size 432x288 with 1 Axes>"
            ]
          },
          "metadata": {},
          "output_type": "display_data"
        },
        {
          "name": "stdout",
          "output_type": "stream",
          "text": [
            "19\n",
            "Accuracy of the Model ExtraTreeClassifier 99.7%\n"
          ]
        }
      ],
      "source": [
        "from sklearn.tree import DecisionTreeClassifier, ExtraTreeClassifier #Import packages related to Model\n",
        "Model = \"ExtraTreeClassifier\"\n",
        "model=ExtraTreeClassifier()\n",
        "\n",
        "train_test_ml_model(X_train,y_train,X_test,Model)"
      ]
    },
    {
      "cell_type": "code",
      "execution_count": null,
      "metadata": {
        "_uuid": "e0d458dd61f7f90aa9c0cf48aa16d950c5996e82",
        "id": "KT6JCu7CaFVE",
        "outputId": "e020586c-9ce1-4ec9-8c9f-9a5df13eb6b0"
      },
      "outputs": [
        {
          "data": {
            "image/png": "[encoded data removed]",
            "text/plain": [
              "<Figure size 432x288 with 1 Axes>"
            ]
          },
          "metadata": {},
          "output_type": "display_data"
        },
        {
          "name": "stdout",
          "output_type": "stream",
          "text": [
            "8\n",
            "Accuracy of the Model QuadraticDiscriminantAnalysis 97.4%\n"
          ]
        }
      ],
      "source": [
        "from sklearn.discriminant_analysis import QuadraticDiscriminantAnalysis, LinearDiscriminantAnalysis #Import packages related to Model\n",
        "Model = \"QuadraticDiscriminantAnalysis\"\n",
        "model = QuadraticDiscriminantAnalysis()\n",
        "\n",
        "train_test_ml_model(X_train,y_train,X_test,Model)"
      ]
    },
    {
      "cell_type": "code",
      "execution_count": null,
      "metadata": {
        "_uuid": "66b9355c217b0383da7e969d1bbf967552e45eb3",
        "id": "SIolkpATaFVE",
        "outputId": "3a2e1a23-e6dc-4d99-e8bf-dc14d1d40afa"
      },
      "outputs": [
        {
          "data": {
            "image/png": "[encoded data removed]",
            "text/plain": [
              "<Figure size 432x288 with 1 Axes>"
            ]
          },
          "metadata": {},
          "output_type": "display_data"
        },
        {
          "name": "stdout",
          "output_type": "stream",
          "text": [
            "16\n",
            "Accuracy of the Model LinearDiscriminantAnalysis 98.7%\n"
          ]
        }
      ],
      "source": [
        "from sklearn.discriminant_analysis import QuadraticDiscriminantAnalysis, LinearDiscriminantAnalysis #Import packages related to Model\n",
        "Model = \"LinearDiscriminantAnalysis\"\n",
        "model=LinearDiscriminantAnalysis()\n",
        "\n",
        "train_test_ml_model(X_train,y_train,X_test,Model)"
      ]
    },
    {
      "cell_type": "code",
      "execution_count": null,
      "metadata": {
        "_uuid": "5b4ed9fff467929b349999430ef612cc0d62183b",
        "id": "PoPDxh9ZaFVF",
        "outputId": "485fecc7-d730-4f5c-8c35-7b31613ac502"
      },
      "outputs": [
        {
          "data": {
            "image/png": "[encoded data removed]",
            "text/plain": [
              "<Figure size 432x288 with 1 Axes>"
            ]
          },
          "metadata": {},
          "output_type": "display_data"
        },
        {
          "name": "stdout",
          "output_type": "stream",
          "text": [
            "16\n",
            "Accuracy of the Model RandomForestClassifier 100.0%\n"
          ]
        }
      ],
      "source": [
        "from sklearn.ensemble import RandomForestClassifier, AdaBoostClassifier, GradientBoostingClassifier #Import packages related to Model\n",
        "Model = \"RandomForestClassifier\"\n",
        "model=RandomForestClassifier()\n",
        "\n",
        "train_test_ml_model(X_train,y_train,X_test,Model)"
      ]
    },
    {
      "cell_type": "code",
      "execution_count": null,
      "metadata": {
        "_uuid": "9815eb19fee0a4309035529a42275492f832ae29",
        "id": "qSYZZ73FaFVF",
        "outputId": "73b2663a-6483-4eb6-b4f0-4f3f4ac6d364"
      },
      "outputs": [
        {
          "data": {
            "image/png": "[encoded data removed]",
            "text/plain": [
              "<Figure size 432x288 with 1 Axes>"
            ]
          },
          "metadata": {},
          "output_type": "display_data"
        },
        {
          "name": "stdout",
          "output_type": "stream",
          "text": [
            "6\n",
            "Accuracy of the Model AdaBoostClassifier 97.4%\n"
          ]
        }
      ],
      "source": [
        "from sklearn.ensemble import RandomForestClassifier, AdaBoostClassifier, GradientBoostingClassifier #Import packages related to Model\n",
        "Model = \"AdaBoostClassifier\"\n",
        "model=AdaBoostClassifier()\n",
        "\n",
        "train_test_ml_model(X_train,y_train,X_test,Model)"
      ]
    },
    {
      "cell_type": "code",
      "execution_count": null,
      "metadata": {
        "_uuid": "294728d46fcff1db4aa4fd1d1157de6a6b8cb390",
        "id": "wL9c_4vUaFVF",
        "outputId": "a3bd32e0-e646-4fc6-8bf4-54886fa34cef"
      },
      "outputs": [
        {
          "data": {
            "image/png": "[encoded data removed]",
            "text/plain": [
              "<Figure size 432x288 with 1 Axes>"
            ]
          },
          "metadata": {},
          "output_type": "display_data"
        },
        {
          "name": "stdout",
          "output_type": "stream",
          "text": [
            "9\n",
            "Accuracy of the Model GradientBoostingClassifier 98.8%\n"
          ]
        }
      ],
      "source": [
        "from sklearn.ensemble import RandomForestClassifier, AdaBoostClassifier, GradientBoostingClassifier #Import packages related to Model\n",
        "Model = \"GradientBoostingClassifier\"\n",
        "model=GradientBoostingClassifier()\n",
        "\n",
        "train_test_ml_model(X_train,y_train,X_test,Model)"
      ]
    }
  ],
  "metadata": {
    "kernelspec": {
      "display_name": "Python 3",
      "language": "python",
      "name": "python3"
    },
    "language_info": {
      "codemirror_mode": {
        "name": "ipython",
        "version": 3
      },
      "file_extension": ".py",
      "mimetype": "text/x-python",
      "name": "python",
      "nbconvert_exporter": "python",
      "pygments_lexer": "ipython3",
      "version": "3.6.6"
    },
    "colab": {
      "provenance": [],
      "include_colab_link": true
    }
  },
  "nbformat": 4,
  "nbformat_minor": 0
}